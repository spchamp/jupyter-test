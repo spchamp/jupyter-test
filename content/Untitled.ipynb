{
  "metadata": {
    "language_info": {
      "codemirror_mode": {
        "name": "python",
        "version": 3
      },
      "file_extension": ".py",
      "mimetype": "text/x-python",
      "name": "python",
      "nbconvert_exporter": "python",
      "pygments_lexer": "ipython3",
      "version": "3.8"
    },
    "kernelspec": {
      "name": "python",
      "display_name": "Python (Pyodide)",
      "language": "python"
    }
  },
  "nbformat_minor": 4,
  "nbformat": 4,
  "cells": [
    {
      "cell_type": "markdown",
      "source": "## Test",
      "metadata": {}
    },
    {
      "cell_type": "code",
      "source": "import seaborn as sns\n\n## data from Utts ch. 9 exercise 9 (table 9.3)\n\n# year = [1982, 1983, 1985, 1986, 1987, 1988, 1989, 1990, 1991]\npop = [231, 234, 239, 241, 243, 246, 248, 249, 252]\nrate = [1.32, 1.26, 1.33, 1.49, 1.48, 1.57, 1.65, 1.82, 1.91]\n\nsplot = sns.regplot(x=pop, y=rate)\nsplot.set(title = \"Example\", xlabel=\"Population\", ylabel=\"Rate\")",
      "metadata": {
        "trusted": true
      },
      "execution_count": 1,
      "outputs": [
        {
          "ename": "<class 'ModuleNotFoundError'>",
          "evalue": "No module named 'seaborn'",
          "traceback": [
            "\u001b[0;31m---------------------------------------------------------------------------\u001b[0m",
            "\u001b[0;31mModuleNotFoundError\u001b[0m                       Traceback (most recent call last)",
            "Cell \u001b[0;32mIn [1], line 1\u001b[0m\n\u001b[0;32m----> 1\u001b[0m \u001b[38;5;28;01mimport\u001b[39;00m \u001b[38;5;21;01mseaborn\u001b[39;00m \u001b[38;5;28;01mas\u001b[39;00m \u001b[38;5;21;01msns\u001b[39;00m\n\u001b[1;32m      3\u001b[0m \u001b[38;5;66;03m## data from Utts ch. 9 exercise 9 (table 9.3)\u001b[39;00m\n\u001b[1;32m      4\u001b[0m \n\u001b[1;32m      5\u001b[0m \u001b[38;5;66;03m# year = [1982, 1983, 1985, 1986, 1987, 1988, 1989, 1990, 1991]\u001b[39;00m\n\u001b[1;32m      6\u001b[0m pop \u001b[38;5;241m=\u001b[39m [\u001b[38;5;241m231\u001b[39m, \u001b[38;5;241m234\u001b[39m, \u001b[38;5;241m239\u001b[39m, \u001b[38;5;241m241\u001b[39m, \u001b[38;5;241m243\u001b[39m, \u001b[38;5;241m246\u001b[39m, \u001b[38;5;241m248\u001b[39m, \u001b[38;5;241m249\u001b[39m, \u001b[38;5;241m252\u001b[39m]\n",
            "\u001b[0;31mModuleNotFoundError\u001b[0m: No module named 'seaborn'"
          ],
          "output_type": "error"
        }
      ]
    },
    {
      "cell_type": "code",
      "source": "",
      "metadata": {},
      "execution_count": null,
      "outputs": []
    }
  ]
}